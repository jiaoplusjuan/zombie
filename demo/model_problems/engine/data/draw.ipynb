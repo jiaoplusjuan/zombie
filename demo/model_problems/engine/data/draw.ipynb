{
 "cells": [
  {
   "cell_type": "code",
   "execution_count": 8,
   "id": "2dec59e7",
   "metadata": {},
   "outputs": [
    {
     "name": "stdout",
     "output_type": "stream",
     "text": [
      "图片拼接完成并保存为 is_reflecting_boundary.pdf\n"
     ]
    }
   ],
   "source": [
    "import os\n",
    "from PIL import Image\n",
    "\n",
    "# 图片文件名列表\n",
    "id = 2\n",
    "image_files = [\"absorbing_boundary_value.png\", \"geometry.png\", \"is_reflecting_boundary.png\"]\n",
    "\n",
    "# 检查图片是否存在\n",
    "for img_file in image_files:\n",
    "    if not os.path.exists(img_file):\n",
    "        raise FileNotFoundError(f\"图片文件 {img_file} 不存在！\")\n",
    "\n",
    "# 打开所有图片\n",
    "images = [Image.open(img_file) for img_file in image_files]\n",
    "\n",
    "# 计算拼接后的总宽度和高度\n",
    "total_width = sum(img.width for img in images)\n",
    "max_height = max(img.height for img in images)\n",
    "\n",
    "# 创建新图片\n",
    "new_image = Image.new(\"RGB\", (total_width, max_height))\n",
    "# 获取一行页面总长宽\n",
    "row_width, row_height = new_image.size\n",
    "\n",
    "# 拼接图片 增加图片宽度\n",
    "x_offset = 0\n",
    "img = images[id]\n",
    "# for img in images:\n",
    "# 调整图片大小\n",
    "# img = img.resize((img.width * max_height // img.height, max_height))\n",
    "# img = img.resize((row_width//len(images), row_height//len(images)))\n",
    "# 粘贴图片到新图片\n",
    "new_image.paste(img, (x_offset, 0))\n",
    "x_offset += img.width\n",
    "\n",
    "# 保存为PDF\n",
    "img.save(image_files[id].replace(\".png\", \".pdf\"), \"PDF\", resolution=100.0)\n",
    "\n",
    "print(\"图片拼接完成并保存为 \" + image_files[id].replace(\".png\", \".pdf\"))\n"
   ]
  }
 ],
 "metadata": {
  "kernelspec": {
   "display_name": "luyan",
   "language": "python",
   "name": "python3"
  },
  "language_info": {
   "codemirror_mode": {
    "name": "ipython",
    "version": 3
   },
   "file_extension": ".py",
   "mimetype": "text/x-python",
   "name": "python",
   "nbconvert_exporter": "python",
   "pygments_lexer": "ipython3",
   "version": "3.10.0"
  }
 },
 "nbformat": 4,
 "nbformat_minor": 5
}
