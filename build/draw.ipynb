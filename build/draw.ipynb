{
 "cells": [
  {
   "cell_type": "code",
   "execution_count": null,
   "id": "2267952d",
   "metadata": {},
   "outputs": [],
   "source": [
    "from matplotlib import pyplot as plt\n",
    "nwalks = [1, 2, 4, 8, 16]\n",
    "times = [88, 118, 167, 291, 484]\n",
    "#绘制曲线图\n",
    "plt.plot(nwalks, times, marker='o')\n",
    "plt.xlabel('Number of Walkers')\n",
    "plt.ylabel('Time (s)')\n",
    "plt.title('Time vs Number of Walkers')\n",
    "plt.show()"
   ]
  },
  {
   "cell_type": "code",
   "execution_count": 9,
   "id": "f8308b49",
   "metadata": {},
   "outputs": [
    {
     "name": "stdout",
     "output_type": "stream",
     "text": [
      "PDF 文件已生成：combined_result_part1.pdf\n",
      "PDF 文件已生成：combined_result_part2.pdf\n"
     ]
    }
   ],
   "source": [
    "# combined_result# tree\n",
    "# .\n",
    "# ├── n_walks=1.png\n",
    "# ├── n_walks=16.png\n",
    "# ├── n_walks=2.png\n",
    "# ├── n_walks=4.png\n",
    "# └── n_walks=8.png\n",
    "import img2pdf\n",
    "import os\n",
    "\n",
    "# 定义 PNG 文件路径列表\n",
    "path_list = ['n_walks=1.png', 'n_walks=2.png', 'n_walks=4.png']\n",
    "path_list = [os.path.join('combined_result', path) for path in path_list]\n",
    "\n",
    "# 生成 PDF\n",
    "with open(\"combined_result_part1.pdf\", \"wb\") as f:\n",
    "    f.write(img2pdf.convert(path_list))\n",
    "\n",
    "print(\"PDF 文件已生成：combined_result_part1.pdf\")\n",
    "\n",
    "# 定义 PNG 文件路径列表\n",
    "path_list = ['n_walks=8.png', 'n_walks=16.png']\n",
    "path_list = [os.path.join('combined_result', path) for path in path_list]\n",
    "\n",
    "# 生成 PDF\n",
    "with open(\"combined_result_part2.pdf\", \"wb\") as f:\n",
    "    f.write(img2pdf.convert(path_list))\n",
    "\n",
    "print(\"PDF 文件已生成：combined_result_part2.pdf\")\n",
    "\n"
   ]
  }
 ],
 "metadata": {
  "kernelspec": {
   "display_name": "luyan",
   "language": "python",
   "name": "python3"
  },
  "language_info": {
   "codemirror_mode": {
    "name": "ipython",
    "version": 3
   },
   "file_extension": ".py",
   "mimetype": "text/x-python",
   "name": "python",
   "nbconvert_exporter": "python",
   "pygments_lexer": "ipython3",
   "version": "3.10.0"
  }
 },
 "nbformat": 4,
 "nbformat_minor": 5
}
